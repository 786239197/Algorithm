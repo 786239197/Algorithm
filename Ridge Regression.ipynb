{
 "cells": [
  {
   "cell_type": "markdown",
   "metadata": {},
   "source": [
    "<h1>Table of Contents<span class=\"tocSkip\"></span></h1>\n",
    "<div class=\"toc\"><ul class=\"toc-item\"><li><span><a href=\"#一、常用公式\" data-toc-modified-id=\"常用公式-1\"><span class=\"toc-item-num\">1&nbsp;&nbsp;</span>常用公式</a></span></li><li><span><a href=\"#二、岭回归原理\" data-toc-modified-id=\"岭回归原理-2\"><span class=\"toc-item-num\">2&nbsp;&nbsp;</span>岭回归原理</a></span></li><li><span><a href=\"#三、交叉验证确定$\\lambda$\" data-toc-modified-id=\"交叉验证确定$\\lambda$-3\"><span class=\"toc-item-num\">3&nbsp;&nbsp;</span>交叉验证确定$\\lambda$</a></span></li></ul></div>"
   ]
  },
  {
   "cell_type": "markdown",
   "metadata": {},
   "source": [
    "本笔记由马景义, 赖楸鸿完成, 如有任何错误欢迎向两位编者反馈."
   ]
  },
  {
   "cell_type": "markdown",
   "metadata": {},
   "source": [
    "## 一、 常用公式"
   ]
  },
  {
   "cell_type": "markdown",
   "metadata": {},
   "source": [
    "1.链式法则:若$y(x)$为$x$的向量函数,则\n",
    "$$ \\frac{\\partial f(y(x))}{\\partial x} = \\frac{\\partial y^T(x)}{\\partial x}\\frac{\\partial f(y)}{\\partial y} ,$$\n",
    "其中$\\frac{\\partial y^T(x)}{\\partial x}$为$n\\times n$矩阵."
   ]
  },
  {
   "cell_type": "markdown",
   "metadata": {},
   "source": [
    "2.$a$为$n\\times1$常数向量,则\n",
    "$$\\frac{\\partial a^Tx}{\\partial x}= a ,$$\n",
    "$$\\frac{\\partial x^Ta}{\\partial x}= a.$$"
   ]
  },
  {
   "cell_type": "markdown",
   "metadata": {},
   "source": [
    "3.$a$为$n\\times1$常数向量,则\n",
    "$$\\frac{\\partial a^Ty(x)}{\\partial x}=\\frac{\\partial y^T(x)}{\\partial x}a ,$$\n",
    "$$\\frac{\\partial y^T(x)a}{\\partial x}=\\frac{\\partial y^T(x)}{\\partial x}a.$$"
   ]
  },
  {
   "cell_type": "markdown",
   "metadata": {},
   "source": [
    "4.矩阵$A$和向量$y$与$x$无关,则$$\\frac{\\partial x^TAy}{\\partial x}=Ay ,$$\n",
    "$$\\frac{\\partial y^TAx}{\\partial x}= A^Ty.$$"
   ]
  },
  {
   "cell_type": "markdown",
   "metadata": {},
   "source": [
    "5.矩阵$A$和向量$y$与$x$无关,则\n",
    "$$\\frac{\\partial x^TA}{\\partial x}=A ,$$\n",
    "$$\\frac{\\partial x^TAx}{\\partial x}=Ax+A^Tx=(A+A^T)x.$$"
   ]
  },
  {
   "cell_type": "markdown",
   "metadata": {},
   "source": [
    "## 二、岭回归原理"
   ]
  },
  {
   "cell_type": "markdown",
   "metadata": {},
   "source": [
    "<font face=\"黑体\">岭回归</font>,又称脊回归、吉洪诺夫正则化(Tikhonov regularization),是对最小二乘的改良,通过牺牲部分偏差换取方差的大幅下降，实现偏差与方差的权衡。\n",
    "通常来说,当响应变量和预测变量的关系接近线性时,最小二乘估计会有较低的偏差和较大的方差,这意味着训练数据的微小改变可能导致最小二乘系数的较大改变.而岭回归引入正则项$\\beta^T\\lambda\\beta,$其中$\\lambda$是一个调节参数,将单独确定.当$\\beta_1,\\cdots,\\beta_p$接近零时,正则项较小,因此具有将估计系数相零的方向压缩的作用.随着$\\lambda$的增加,岭回归拟合结果的光滑度降低,以偏差略微增加为代价,使回归系数缩减,进而方差显著减小,达到权衡效果，测试均方误差减小."
   ]
  },
  {
   "cell_type": "markdown",
   "metadata": {},
   "source": [
    "$$\n",
    "L(\\beta)=(y-X\\beta)^T(y-X\\beta)+\\beta^T\\lambda\\beta ,$$\n",
    "其中$y$为$n\\times1$向量，$X$为$n\\times p+1$矩阵，$\\beta$为$p+1\\times1$向量，$\\lambda$为$p+1\\times p+1$矩阵,即\n",
    "$$\\lambda= \\left[\\begin{matrix}0 &0&\\cdots&0 \\\\ 0&\\lambda&\\cdots&0\\\\ \\vdots&\\vdots&\\ddots&\\vdots\\\\0&0&\\cdots&\\lambda \\end{matrix}\\right].$$\n",
    "注意到$\\lambda$并未对截距项$\\beta_0$进行惩罚,我们并不想缩减截距项,因为截距项用于测量当$x_{i1},x_{i2},\\cdots,x_{ip}$为零时响应变量的均值.\n"
   ]
  },
  {
   "cell_type": "markdown",
   "metadata": {},
   "source": [
    "岭回归更多细节详见:https://en.wikipedia.org/wiki/Tikhonov_regularization"
   ]
  },
  {
   "cell_type": "markdown",
   "metadata": {},
   "source": [
    "对$L(\\beta)$求偏导\n",
    "$$\n",
    "\\begin{split}\n",
    "&\\frac{\\partial L(\\beta)}{\\partial \\beta} \\\\\n",
    "=&\\frac{\\partial (y-X\\beta)^T(y-X\\beta)}{\\partial \\beta}+\\frac{\\partial \\beta^T\\lambda\\beta}{\\partial \\beta} \\\\\n",
    "=&\\frac{\\partial (y-X\\beta)^T}{\\partial \\beta}[(y-X\\beta)+(Y-X\\beta)]+(\\lambda+\\lambda^T)\\beta \\\\\n",
    "=&-2X^T(y-X\\beta)+2\\lambda\\beta\n",
    "\\end{split}\n",
    "$$\n",
    "求解岭回归的问题转化为求解线性方程租$\\frac{\\partial L(\\beta)}{\\partial \\beta}=0$即$(X^TX+\\lambda)\\beta=X^Ty$的问题.\n",
    "我们使用cholesky分解+前/回代法(Forward/Backward Substitution)求解岭回归.\n"
   ]
  },
  {
   "cell_type": "markdown",
   "metadata": {},
   "source": [
    "相关内容介绍详见Chol_Solve:此处加超链接,以及cholesky decomposition:https://en.wikipedia.org/wiki/Cholesky_decomposition"
   ]
  },
  {
   "cell_type": "code",
   "execution_count": 39,
   "metadata": {
    "collapsed": true
   },
   "outputs": [],
   "source": [
    "###mchol函数将对称方阵分解为一个下三角矩阵乘以该矩阵转置的形式,函数返回值为下三角矩阵\n",
    "#输入：欲分解的矩阵x\n",
    "#输出：cholesky分解所得矩阵L\n",
    "mchol <- function(x)\n",
    "{\n",
    "  #求矩阵x的行列数,m为行数,n为列数\n",
    "  mn <- dim(x)\n",
    "  m <- mn[1]\n",
    "  n <- mn[2]\n",
    "\n",
    "  #检验x是否为方阵\n",
    "  if(m != n) \n",
    "  {\n",
    "    return (\"Wrong dimensions of matrix!\")\n",
    "  }\n",
    "\n",
    "  #检验x是否为对称矩阵\n",
    "  if(sum(t(x) != x) > 0) \n",
    "  {\n",
    "    return (\"Input matrix is not symmetrical!\")\n",
    "  }\n",
    "\n",
    "  #L为与x行列数相等的零矩阵，用于存放分解所得下三角矩阵\n",
    "  L <- matrix(0, m, m)\n",
    "  \n",
    "  #循环每进行一次,求解一列矩阵L的元素\n",
    "  #矩阵x第i列和第i行之前的元素不再使用，相当于矩阵x减少一个维数，故下述将循环所至第i列记为当前矩阵x和矩阵L的第一列\n",
    "  for(i in 1:m)\n",
    "  {\n",
    "    #L的主对角线上第一个元素为x的主对角线上第一个元素开方\n",
    "    L[i,i] <- sqrt(x[i,i])\n",
    "    if(i < m)\n",
    "    {\n",
    "      #求当前矩阵L的第一列除第一个元素外的其他元素\n",
    "      L[(i+1):m,i] <- x[(i+1):m,i]/L[i,i]\n",
    "\n",
    "      #矩阵L第一列（除第一个元素）乘以它的转置得到TLM用于更新矩阵x，效果同TLM%*%TLM\n",
    "      TLV <- L[(i+1):m,i]                               #记录已求出第一列除第一个元素外剩下元素\n",
    "      TLM <- matrix(TLV, m-i, m-i)                      #TLV按列复制成矩阵\n",
    "      TLM <- sweep(TLM, 2, TLV, \"*\")                    #sweep(x， MARGIN， STATS， FUN=”-“， …) 对矩阵进行运算\n",
    "                                                        #MARGIN为1，表示行的方向上进行运算，为2表示列的方向上运算(是指将参数从列的方向移下去算)\n",
    "                                                        #STATS是运算的参数，FUN为运算函数，默认是减法\n",
    "\n",
    "      #减少一个维数的矩阵x更新为原来对应位置上的元素减去TLM，为下一次循环做准备\n",
    "      x[(i+1):m,(i+1):m] <- x[(i+1):m,(i+1):m] - TLM\n",
    "    }\n",
    "  }\n",
    "  #矩阵的返回值为我们要求的下三角矩阵L\n",
    "  L  \n",
    "}\n",
    "\n",
    "######EXAM\n",
    "#y=matrix(rnorm(20),5)\n",
    "#x=t(y)%*%y\n",
    "#mchol(x)\n",
    "######EXAM"
   ]
  },
  {
   "cell_type": "code",
   "execution_count": 40,
   "metadata": {
    "collapsed": true
   },
   "outputs": [],
   "source": [
    "###mforwardsolve函数求解线性方程租Lx=b，其中L为下三角矩阵\n",
    "#输入：下三角矩阵L，向量b\n",
    "#输出：线性方程组的解x\n",
    "mforwardsolve <- function(L, b)\n",
    "{\n",
    "  #求L的行列数,m为L的行数,n为L的列数\n",
    "  mn <- dim(L)\n",
    "  m <- mn[1]\n",
    "  n <- mn[2]\n",
    "\n",
    "  #判断L是否为方阵\n",
    "  if(m != n) \n",
    "  {\n",
    "    return (\"Wrong dimensions of matrix L!\")\n",
    "  }\n",
    "  \n",
    "  #判断L是否为下三角矩阵\n",
    "  for (i in 1:(m-1))\n",
    "  {\n",
    "    if(sum(L[i,(i+1):m] != 0) > 0)#逐行判断上三角是否全为0元素\n",
    "    {\n",
    "      return (\"Matrix L must be a lower triangular matrix!\")\n",
    "    }\n",
    "  }\n",
    "\n",
    "  #判断L的行数与b的长度是否相等\n",
    "  if(m != length(b))\n",
    "  {\n",
    "    return (\"Wrong dimensions of matrix L or vector b!\")\n",
    "  }\n",
    "  \n",
    "  #0向量记录求解结果\n",
    "  x=rep(0, m)\n",
    "  \n",
    "  #循环每进行一次,求解一个x中的元素，看作矩阵L向量x向量b的维数减一\n",
    "  #故下述将矩阵L的第i列记为当前矩阵L第一列，将向量x向量b的第i个元素记为当前向量第一个元素\n",
    "  for(i in 1:m)\n",
    "  {\n",
    "    #求当前循环中x的第一个元素\n",
    "    x[i] <- b[i] / L[i,i]\n",
    "    #降维后的b向量为原来位置上的元素减去当前矩阵L的第一列的乘积\n",
    "    if(i < m) \n",
    "    {\n",
    "      b[(i+1):m] <- b[(i+1):m] - x[i]*L[(i+1):m,i]\n",
    "    }      \n",
    "  }\n",
    "  #函数返回的x向量即为线性方程组的解\n",
    "  x  \n",
    "}\n",
    "\n",
    "\n",
    "\n",
    "###mbacksolve函数求解线性方程租Lx=b，其中L为上三角矩阵\n",
    "#输入：上三角矩阵L，向量b\n",
    "#输出：线性方程组的解x\n",
    "mbacksolve <- function(L, b)\n",
    "{\n",
    "  #求L的行列数,m为L的行数,n为L的列数\n",
    "  mn <-dim(L)\n",
    "  m <- mn[1]\n",
    "  n <- mn[2]\n",
    "\n",
    "  #判断L是否为方阵\n",
    "  if(m != n)\n",
    "  {  \n",
    "    return (\"Wrong dimensions of matrix L!\")\n",
    "  }\n",
    "\n",
    "  #判断L是否为上三角矩阵\n",
    "  for (i in 2:m)\n",
    "  {\n",
    "    if(sum(L[i,1:(i-1)] != 0) > 0)\n",
    "    {\n",
    "      return (\"Matrix L must be a upper triangular matrix!\")\n",
    "    }\n",
    "  }\n",
    "\n",
    "  #判断L的行数与b的列数是否相等\n",
    "  if(m != length(b))\n",
    "  {\n",
    "    return (\"Wrong dimensions of matrix L or vector b!\")\n",
    "  }  \n",
    "  \n",
    "  x <- rep(0, m)\n",
    "  \n",
    "  #循环每进行一次,求解一个x中的元素，看作矩阵L向量x向量b的维数减一\n",
    "  #故下述将矩阵L的第i列记为当前矩阵L最后一列，将向量x向量b的第i个元素记为当前向量最后一个元素\n",
    "  for(i in m:1)\n",
    "  {\n",
    "    #求当前循环中x的最后一个元素\n",
    "    x[i] <- b[i] / L[i,i]\n",
    "    #降维后的向量b为原来位置上的元素减去刚才求出的x元素与当前上三角矩阵L最后一列（除最后一个元素）的乘积\n",
    "    if(i > 1) \n",
    "    {\n",
    "      b[(i-1):1] <- b[(i-1):1] - x[i]*L[(i-1):1,i]\n",
    "    }      \n",
    "  }\n",
    "  #函数返回值x向量即为线性方程组的解\n",
    "  x  \n",
    "}\n",
    "\n",
    "\n",
    "######EXAM\n",
    "#y=matrix(rnorm(20),5)\n",
    "#x=t(y)%*%y\n",
    "#L=mchol(x); b=1:4\n",
    "#mforwardsolve(L,b)\n",
    "#forwardsolve(L,b)\n",
    "######EXAM"
   ]
  },
  {
   "cell_type": "code",
   "execution_count": 75,
   "metadata": {
    "collapsed": true
   },
   "outputs": [],
   "source": [
    "###ridgereg函数用于实现岭回归参数beta的估计，参数x和y分别为回归方程的自变量和因变量,lambda为L2正则项的调节参数\n",
    "#此函数求解线性方程租(t(x)%*%x+lambada)%*%beta=t(x)%*%y,将t(x)%*%x+lambada进行cholesky分解为R%*%t(R),forwardsolve求解L%*%d=t(x)%*%y,其中d=t(R)%*%beta,backsolve求解t(R)%*%beta=d,即得参数beta的估计值 \n",
    "#输入：自变量x，因变量y，调节参数lambda\n",
    "#输出：回归系数beta的估计值\n",
    "ridgereg <- function(lambda, x, y)\n",
    "{\n",
    "  #y=data[,m]; x=data[,-m]\n",
    "  #n为自变量矩阵行数,即n个样本,p为自变量矩阵列数,即p个参数\n",
    "  np <- dim(x)\n",
    "  n <- np[1]\n",
    "  p <- np[2]\n",
    "\n",
    "  #将自变量矩阵增加一列全1元素,以便于截距项的计算\n",
    "  x <- as.matrix(cbind(rep(1, n),x))\n",
    "\n",
    "  #利用cholesky分解求取回归方程的参数beta的估计值  \n",
    "  V <- t(x)%*%x + diag(c(0, rep(lambda, p)))              #t(x)%*%x+lambda作为线性方程组的系数矩阵V\n",
    "  U <- as.vector(t(x)%*%y)                           \n",
    "  R <- mchol(V)                                           #调用mchol函数将系数矩阵V进行cholesky分解,V=R%*%t(R)\n",
    "  M <- mforwardsolve(R, U)                                #使用前代法求解R%*%M=t(x)%*%y,其中M=t(R)%*%beta\n",
    "  mbacksolve(t(R), M)                                     #使用回代法求解t(R)%*%beta=M,即可得beta的估计值\n",
    "}"
   ]
  },
  {
   "cell_type": "code",
   "execution_count": 37,
   "metadata": {},
   "outputs": [
    {
     "data": {
      "text/html": [
       "<table>\n",
       "<tbody>\n",
       "\t<tr><td>4 </td><td> 6</td><td> 8</td></tr>\n",
       "\t<tr><td>6 </td><td> 9</td><td>12</td></tr>\n",
       "\t<tr><td>8 </td><td>12</td><td>16</td></tr>\n",
       "</tbody>\n",
       "</table>\n"
      ],
      "text/latex": [
       "\\begin{tabular}{lll}\n",
       "\t 4  &  6 &  8\\\\\n",
       "\t 6  &  9 & 12\\\\\n",
       "\t 8  & 12 & 16\\\\\n",
       "\\end{tabular}\n"
      ],
      "text/markdown": [
       "\n",
       "| 4  |  6 |  8 | \n",
       "| 6  |  9 | 12 | \n",
       "| 8  | 12 | 16 | \n",
       "\n",
       "\n"
      ],
      "text/plain": [
       "     [,1] [,2] [,3]\n",
       "[1,] 4     6    8  \n",
       "[2,] 6     9   12  \n",
       "[3,] 8    12   16  "
      ]
     },
     "metadata": {},
     "output_type": "display_data"
    }
   ],
   "source": [
    "outer(2:4,2:4)"
   ]
  },
  {
   "cell_type": "markdown",
   "metadata": {},
   "source": [
    "## 三、交叉验证确定$\\lambda$"
   ]
  },
  {
   "cell_type": "markdown",
   "metadata": {},
   "source": [
    "### 1.删一交叉验证(leave-one-out cross-validation)"
   ]
  },
  {
   "cell_type": "markdown",
   "metadata": {},
   "source": [
    "<font face=\"黑体\">删一交叉验证</font>将一个单独$(x_i,y_i)$观测作为验证集,剩下的观测作为训练集,在$n-1$个观测上建模,再用$x_i$预测$y_i$，由于建模过程中没有用到$(x_i,y_i),$故$MSE_i$是测试误差的渐近无偏估计,重复这个步骤$n$次会得到$n$个$MSE_i,$对测试误差的估计即为这$n$估计量的均值."
   ]
  },
  {
   "cell_type": "markdown",
   "metadata": {},
   "source": [
    "我们用删一交叉验证法选择调节参数$\\lambda,$选择一系列$\\lambda$的值,计算每个$\\lambda$对应模型的测试误差估计值,选择其中测试误差估计值最小的$\\lambda.$"
   ]
  },
  {
   "cell_type": "markdown",
   "metadata": {},
   "source": [
    "删一交叉验证详见：https://en.wikipedia.org/wiki/Cross-validation_(statistics)#Leave-one-out_cross-validation "
   ]
  },
  {
   "cell_type": "code",
   "execution_count": 86,
   "metadata": {
    "scrolled": false
   },
   "outputs": [
    {
     "data": {
      "text/html": [
       "<ol class=list-inline>\n",
       "\t<li>0.439533558041209</li>\n",
       "\t<li>0.562800409300066</li>\n",
       "\t<li>0.561761682327131</li>\n",
       "\t<li>-0.0198710012557136</li>\n",
       "\t<li>0.0989502953509072</li>\n",
       "\t<li>0.645197525205287</li>\n",
       "\t<li>-0.0777548597849345</li>\n",
       "\t<li>0.0344279766734407</li>\n",
       "\t<li>0.00465563598611401</li>\n",
       "</ol>\n"
      ],
      "text/latex": [
       "\\begin{enumerate*}\n",
       "\\item 0.439533558041209\n",
       "\\item 0.562800409300066\n",
       "\\item 0.561761682327131\n",
       "\\item -0.0198710012557136\n",
       "\\item 0.0989502953509072\n",
       "\\item 0.645197525205287\n",
       "\\item -0.0777548597849345\n",
       "\\item 0.0344279766734407\n",
       "\\item 0.00465563598611401\n",
       "\\end{enumerate*}\n"
      ],
      "text/markdown": [
       "1. 0.439533558041209\n",
       "2. 0.562800409300066\n",
       "3. 0.561761682327131\n",
       "4. -0.0198710012557136\n",
       "5. 0.0989502953509072\n",
       "6. 0.645197525205287\n",
       "7. -0.0777548597849345\n",
       "8. 0.0344279766734407\n",
       "9. 0.00465563598611401\n",
       "\n",
       "\n"
      ],
      "text/plain": [
       "[1]  0.439533558  0.562800409  0.561761682 -0.019871001  0.098950295\n",
       "[6]  0.645197525 -0.077754860  0.034427977  0.004655636"
      ]
     },
     "metadata": {},
     "output_type": "display_data"
    },
    {
     "data": {
      "text/html": [
       "<table>\n",
       "<thead><tr><th scope=col>lpsa</th></tr></thead>\n",
       "<tbody>\n",
       "\t<tr><td> 0.562800409</td></tr>\n",
       "\t<tr><td> 0.561761682</td></tr>\n",
       "\t<tr><td>-0.019871001</td></tr>\n",
       "\t<tr><td> 0.098950295</td></tr>\n",
       "\t<tr><td> 0.645197525</td></tr>\n",
       "\t<tr><td>-0.077754860</td></tr>\n",
       "\t<tr><td> 0.034427977</td></tr>\n",
       "\t<tr><td> 0.004655636</td></tr>\n",
       "</tbody>\n",
       "</table>\n"
      ],
      "text/latex": [
       "\\begin{tabular}{l}\n",
       " lpsa\\\\\n",
       "\\hline\n",
       "\t  0.562800409\\\\\n",
       "\t  0.561761682\\\\\n",
       "\t -0.019871001\\\\\n",
       "\t  0.098950295\\\\\n",
       "\t  0.645197525\\\\\n",
       "\t -0.077754860\\\\\n",
       "\t  0.034427977\\\\\n",
       "\t  0.004655636\\\\\n",
       "\\end{tabular}\n"
      ],
      "text/markdown": [
       "\n",
       "lpsa | \n",
       "|---|---|---|---|---|---|---|---|\n",
       "|  0.562800409 | \n",
       "|  0.561761682 | \n",
       "| -0.019871001 | \n",
       "|  0.098950295 | \n",
       "|  0.645197525 | \n",
       "| -0.077754860 | \n",
       "|  0.034427977 | \n",
       "|  0.004655636 | \n",
       "\n",
       "\n"
      ],
      "text/plain": [
       "     lpsa        \n",
       "[1,]  0.562800409\n",
       "[2,]  0.561761682\n",
       "[3,] -0.019871001\n",
       "[4,]  0.098950295\n",
       "[5,]  0.645197525\n",
       "[6,] -0.077754860\n",
       "[7,]  0.034427977\n",
       "[8,]  0.004655636"
      ]
     },
     "metadata": {},
     "output_type": "display_data"
    },
    {
     "data": {
      "image/png": "[encoded data removed]",
      "text/plain": [
       "plot without title"
      ]
     },
     "metadata": {},
     "output_type": "display_data"
    }
   ],
   "source": [
    "###pred函数的参数b为参数向量,x为自变量,返回值为因变量的预测值\n",
    "#输入：回归系数b向量,数据nx\n",
    "#输出：因变量y的预测值\n",
    "pred <- function(b, nx)\n",
    "{\n",
    "  #nx=prostate[1:2,1:8]\n",
    "  b <- as.vector(b)\n",
    "  p <- length(b) - 1\n",
    "  \n",
    "  #将数据矩阵nx重新排列，每一行为一个样品，重排矩阵的原因是下面例子中调用的数据原结构为dataframe\n",
    "  nx <- as.matrix(nx, ncol <- p)\n",
    "  n <- dim(nx)[1]\n",
    "  \n",
    "  #计算预测值\n",
    "  apply(t(nx)*b[2:(p+1)], 2, sum) + b[1]  \n",
    "}\n",
    "\n",
    "###mridge函数用于实现删去一个样品的岭回归\n",
    "mridge=function(i,lambda,x,y) \n",
    "{\n",
    "    ridgereg(lambda,x[-i,],y[-i])\n",
    "}\n",
    "\n",
    "###cvridgeregerr函数用交叉验证实现岭回归，参数依次为调节参数lambda,自变量x(数据矩阵),因变量y,返回值为测试均方误差   \n",
    "#输入：超参数lambda,自变量x(数据矩阵),因变量y\n",
    "#输出：删一交叉验证岭回归测试均方误差\n",
    "cvridgeregerr<-function(lambda,x,y){  \n",
    "    #lambda=1\n",
    "    np<-dim(x)\n",
    "    n<-np[1]\n",
    "    p<-np[2]\n",
    "    #矩阵中的元素作为第一个参数输入mridge，表示去掉的数据编号，结果第i行为删去第i个样本的岭回归系数估计值\n",
    "    coe<-t(apply(as.matrix(1:n,ncol=1),1,mridge,lambda,x,y))\n",
    "    #coe第i行和数据矩阵第i个样本做点对点相乘，对行求和，计算测试均方误差\n",
    "    mean((apply(coe*cbind(1,x),1,sum)-y)^2)\n",
    "}\n",
    "\n",
    "###ridgeregerr函数用于计算训练均方误差  \n",
    "#输入：岭回归超参数lambda，数据矩阵x，因变量y\n",
    "#输出：训练均方误差\n",
    "ridgeregerr=function(lambda,x,y)\n",
    "{\n",
    "    mean((pred(ridgereg(lambda,x,y),x)-y)^2)\n",
    "}   \n",
    "    \n",
    "###############################\n",
    "###在不同的lambda下,比较训练均方误差和测试均方误差，以选取合适的调节参数lambda\n",
    "library(ElemStatLearn)\n",
    "x <- as.matrix(prostate[ ,1:8])\n",
    "y <- as.vector(prostate[ ,9])\n",
    "LAM <- seq(0.001, 10, len=50)\n",
    "#计算岭回归50个模型的训练均方误差，将结果从list展开成向量\n",
    "err <- unlist(lapply(LAM, ridgeregerr, x, y))\n",
    "#计算岭回归50个模型的测试均方误差，将结果从list展开成向量\n",
    "pe <- unlist(lapply(LAM, cvridgeregerr, x, y))\n",
    "x <- rep(1:50, 2)\n",
    "plot(pe)\n",
    "#取交叉验证中使测试均方误差最小的lambda\n",
    "lam=LAM[which.min(pe)]\n",
    "\n",
    "\n",
    "###############################################\n",
    "###比较R内置函数与本文的岭回归函数\n",
    "library(ElemStatLearn)\n",
    "x <- prostate[ ,1:8]\n",
    "y <- prostate[ ,9]\n",
    "#用本文写的岭回归函数实现岭回归，返回beta估计值\n",
    "ridgereg(lam, x, y)\n",
    "library(mda)\n",
    "#用mda内置函数实现岭回归(输出结果中缺少截距项)\n",
    "ridge1 <- gen.ridge(prostate[ ,1:8], prostate[ ,9, drop <- FALSE], lambda =lam)  \n",
    "ridge1$coe"
   ]
  },
  {
   "cell_type": "markdown",
   "metadata": {},
   "source": [
    "### 2.K折交叉验证(k-fold cross-validation)"
   ]
  },
  {
   "cell_type": "markdown",
   "metadata": {},
   "source": [
    "<font face=\"黑体\">K折交叉验证</font>将数据集随机地分成$k$个大小基本一致的组,或者说折.其中一折作为验证集,剩下$k-1$折作为训练集,在训练集上建模,在验证集上计算测试均方误差的估计,重复这个步骤$k$次,得到$k$个测试误差的估计,对测试误差的估计即为$k$个估计量的均值."
   ]
  },
  {
   "cell_type": "markdown",
   "metadata": {},
   "source": [
    "K折交叉验证详见:https://en.wikipedia.org/wiki/Cross-validation_(statistics)#k-fold_cross-validation"
   ]
  },
  {
   "cell_type": "code",
   "execution_count": 160,
   "metadata": {},
   "outputs": [
    {
     "data": {
      "text/html": [
       "1.18367346938776"
      ],
      "text/latex": [
       "1.18367346938776"
      ],
      "text/markdown": [
       "1.18367346938776"
      ],
      "text/plain": [
       "[1] 1.183673"
      ]
     },
     "metadata": {},
     "output_type": "display_data"
    },
    {
     "data": {
      "text/html": [
       "<ol class=list-inline>\n",
       "\t<li>0.376187864929886</li>\n",
       "\t<li>0.563524400352627</li>\n",
       "\t<li>0.577063360389855</li>\n",
       "\t<li>-0.0202229047083941</li>\n",
       "\t<li>0.0983672737941701</li>\n",
       "\t<li>0.673266376910463</li>\n",
       "\t<li>-0.0847834674506864</li>\n",
       "\t<li>0.0378516961588805</li>\n",
       "\t<li>0.00461118298222048</li>\n",
       "</ol>\n"
      ],
      "text/latex": [
       "\\begin{enumerate*}\n",
       "\\item 0.376187864929886\n",
       "\\item 0.563524400352627\n",
       "\\item 0.577063360389855\n",
       "\\item -0.0202229047083941\n",
       "\\item 0.0983672737941701\n",
       "\\item 0.673266376910463\n",
       "\\item -0.0847834674506864\n",
       "\\item 0.0378516961588805\n",
       "\\item 0.00461118298222048\n",
       "\\end{enumerate*}\n"
      ],
      "text/markdown": [
       "1. 0.376187864929886\n",
       "2. 0.563524400352627\n",
       "3. 0.577063360389855\n",
       "4. -0.0202229047083941\n",
       "5. 0.0983672737941701\n",
       "6. 0.673266376910463\n",
       "7. -0.0847834674506864\n",
       "8. 0.0378516961588805\n",
       "9. 0.00461118298222048\n",
       "\n",
       "\n"
      ],
      "text/plain": [
       "[1]  0.376187865  0.563524400  0.577063360 -0.020222905  0.098367274\n",
       "[6]  0.673266377 -0.084783467  0.037851696  0.004611183"
      ]
     },
     "metadata": {},
     "output_type": "display_data"
    },
    {
     "data": {
      "text/html": [
       "<table>\n",
       "<thead><tr><th scope=col>lpsa</th></tr></thead>\n",
       "<tbody>\n",
       "\t<tr><td> 0.563524400</td></tr>\n",
       "\t<tr><td> 0.577063360</td></tr>\n",
       "\t<tr><td>-0.020222905</td></tr>\n",
       "\t<tr><td> 0.098367274</td></tr>\n",
       "\t<tr><td> 0.673266377</td></tr>\n",
       "\t<tr><td>-0.084783467</td></tr>\n",
       "\t<tr><td> 0.037851696</td></tr>\n",
       "\t<tr><td> 0.004611183</td></tr>\n",
       "</tbody>\n",
       "</table>\n"
      ],
      "text/latex": [
       "\\begin{tabular}{l}\n",
       " lpsa\\\\\n",
       "\\hline\n",
       "\t  0.563524400\\\\\n",
       "\t  0.577063360\\\\\n",
       "\t -0.020222905\\\\\n",
       "\t  0.098367274\\\\\n",
       "\t  0.673266377\\\\\n",
       "\t -0.084783467\\\\\n",
       "\t  0.037851696\\\\\n",
       "\t  0.004611183\\\\\n",
       "\\end{tabular}\n"
      ],
      "text/markdown": [
       "\n",
       "lpsa | \n",
       "|---|---|---|---|---|---|---|---|\n",
       "|  0.563524400 | \n",
       "|  0.577063360 | \n",
       "| -0.020222905 | \n",
       "|  0.098367274 | \n",
       "|  0.673266377 | \n",
       "| -0.084783467 | \n",
       "|  0.037851696 | \n",
       "|  0.004611183 | \n",
       "\n",
       "\n"
      ],
      "text/plain": [
       "     lpsa        \n",
       "[1,]  0.563524400\n",
       "[2,]  0.577063360\n",
       "[3,] -0.020222905\n",
       "[4,]  0.098367274\n",
       "[5,]  0.673266377\n",
       "[6,] -0.084783467\n",
       "[7,]  0.037851696\n",
       "[8,]  0.004611183"
      ]
     },
     "metadata": {},
     "output_type": "display_data"
    },
    {
     "data": {
      "image/png": "[encoded data removed]",
      "text/plain": [
       "plot without title"
      ]
     },
     "metadata": {},
     "output_type": "display_data"
    }
   ],
   "source": [
    "k_ridge=function(i, lambda, x, y, index) \n",
    "{\n",
    "    ridgereg(lambda,x[!(index==i),],y[!(index==i)])\n",
    "}\n",
    "\n",
    "###k_cvridgeregerr函数用K折交叉验证实现岭回归，参数依次为调节参数lambda,自变量x(数据矩阵),因变量y,返回值为测试均方误差的估计   \n",
    "#输入：调节参数lambda,自变量x(数据矩阵),因变量y，折数k(一般选取5或10)\n",
    "#输出：k折交叉验证岭回归测试均方误差\n",
    "k_cvridgeregerr<-function(lambda, x, y, k){  \n",
    "    np <- dim(x)\n",
    "    n <- np[1]\n",
    "    index <- sample(rep(1:k,ceiling(n/k)), n)\n",
    "\n",
    "    #矩阵中的元素作为当前删去折数作为参数传入k_ridge，结果第i行为删去第i折的岭回归系数估计值\n",
    "    coe <- t(apply(as.matrix(1:k,ncol=1),1,k_ridge,lambda, x, y, index))\n",
    "    #coe对应系数和数据矩阵做点对点相乘，对行求和，计算测试均方误差的估计\n",
    "    mean((apply(coe[index,]*cbind(1,x),1,sum)-y)^2)\n",
    "}\n",
    "  \n",
    "###############################\n",
    "###在不同的lambda下,计算测试均方误差的估计，以选取合适的调节参数lambda\n",
    "library(ElemStatLearn)\n",
    "x <- as.matrix(prostate[,1:8])\n",
    "y <- as.vector(prostate[,9])\n",
    "LAM <- seq(1, 2, len=50)\n",
    "#计算岭回归50个模型的测试均方误差，将结果从list展开成向量\n",
    "pe <- unlist(lapply(LAM, k_cvridgeregerr, x, y, k=10))\n",
    "plot(pe)\n",
    "\n",
    "# #取交叉验证中使测试均方误差最小的lambda\n",
    "lam=LAM[which.min(pe)]\n",
    "lam\n",
    "\n",
    "\n",
    "###############################################\n",
    "###比较R内置函数与本文的岭回归函数\n",
    "library(ElemStatLearn)\n",
    "x <- prostate[ ,1:8]\n",
    "y <- prostate[ ,9]\n",
    "#用本文写的岭回归函数实现岭回归，返回beta估计值\n",
    "ridgereg(lam, x, y)\n",
    "library(mda)\n",
    "#用mda内置函数实现岭回归(输出结果中缺少截距项)\n",
    "ridge1 <- gen.ridge(prostate[ ,1:8], prostate[ ,9, drop <- FALSE], lambda =lam)  \n",
    "ridge1$coe"
   ]
  }
 ],
 "metadata": {
  "kernelspec": {
   "display_name": "R",
   "language": "R",
   "name": "ir"
  },
  "language_info": {
   "codemirror_mode": "r",
   "file_extension": ".r",
   "mimetype": "text/x-r-source",
   "name": "R",
   "pygments_lexer": "r",
   "version": "3.4.1"
  }
 },
 "nbformat": 4,
 "nbformat_minor": 2
}
