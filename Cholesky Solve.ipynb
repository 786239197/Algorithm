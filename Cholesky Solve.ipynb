{
 "cells": [
  {
   "cell_type": "markdown",
   "metadata": {},
   "source": [
    "## 一、理论部分：Cholesky分解法"
   ]
  },
  {
   "cell_type": "markdown",
   "metadata": {},
   "source": [
    "<font face=\"黑体\"> Cholesky分解法 </font>又称为<font face=\"黑体\">平方根法</font>，是求解对称正定线性方程组最常用的方法之一。<font face=\"黑体\">Cholesky分解定理</font>如下：\n",
    "\n",
    "若$A \\in R^ {n \\times n}$对称正定，则存在一个对角元均为正数的下三角阵$L \\in R^ {n \\times n}$，使得\n",
    "$$A=LL^T.$$\n",
    "\n",
    "\n",
    "因此，我们可按如下步骤求解方程组$Ax=b$：\n",
    "(1)计算$A$的Cholesky分解：$A=LL^T$;\n",
    "(2)求解$Ly=b$得$y$;\n",
    "(3)求解$L^Tx=y$得$x$."
   ]
  },
  {
   "cell_type": "markdown",
   "metadata": {},
   "source": [
    "### 1. Cholesky分解实用算法"
   ]
  },
  {
   "cell_type": "markdown",
   "metadata": {},
   "source": [
    "通常简单而实用的Cholesky分解方法是通过直接比较$A=LL^T$两边的对应元素来计算$L$。设\n",
    "$$L= \\left[\\begin{matrix}l_{11} \\\\ l_{21}& l_{22}\\\\ \\vdots & \\vdots & \\ddots\\\\l_{n1}& l_{n2} & \\cdots & l_{nn}  \\end{matrix}\\right].$$\n",
    "则$LL^T$的元素为\n",
    "$$LL^T= \\left[\\begin{matrix}l_{11} \\\\ l_{21}& l_{22}\\\\ \\vdots&\\vdots&\\ddots\\\\l_{n1}& l_{n2} & \\cdots & l_{nn}  \\end{matrix}\\right]\n",
    "      \\left[\\begin{matrix}l_{11}&l_{21}& \\cdots&l_{n1} \\\\ & l_{22} & \\cdots & l_{n2}\\\\ & & \\ddots&\\vdots\\\\&  & & l_{nn}  \\end{matrix}\\right] =\\left[\\begin{matrix}a_{11}& a_{12}&\\cdots &a_{1n} \\\\ a_{21}& a_{22} & \\cdots& a_{2n}\\\\ \\vdots & \\vdots & \\ddots\\\\a_{n1}& a_{n2} & \\cdots & a_{nn}  \\end{matrix}\\right].$$\n",
    "比较两边元素，有关系式：\n",
    "$$a_{ij}=\\sum_{p=1}^j l_{ip}l_{jp}， \\ 1 \\leq j \\leq i \\leq n.$$\n",
    "可直接计算$L$的第一列元素：\n",
    "$$l_{11}=\\sqrt{a_{11}},$$\n",
    "$$l_{i1}=a_{i1}/l_{11}，i=2,…,n.$$\n",
    "进一步地，假定已算出$L$的前$k-1$列元素。由\n",
    "$$a_{kk}=\\sum_{p=1}^k l_{kp}^2,$$\n",
    "则可得\n",
    "$$l_{kk}=(a_{kk}-\\sum_{p=1}^{k-1} l_{kp}^2)^\\frac{1}{2}.$$\n",
    "再由\n",
    "$$a_{ik}=\\sum_{p=1}^{k-1} l_{ip}l_{kp} + l_{ik}l_{kk}, \\ i = k+1,…,n,$$\n",
    "得\n",
    "$$l_{ik}=(a_{ik}-\\sum_{p=1}^{k-1} l_{ip}l_{kp})/l_{kk}, \\ i=k+1,…,n.$$\n",
    "由此便可求出矩阵$L$。\n"
   ]
  },
  {
   "cell_type": "markdown",
   "metadata": {},
   "source": [
    "以上介绍可能过于数学化，下面以一个三阶方阵为例进行说明。设\n",
    "$$L= \\left[\\begin{matrix}l_{11}&0&0 \\\\ l_{21}& l_{22}&0\\\\ l_{31}&l_{32}&l_{33}  \\end{matrix}\\right].$$\n",
    "则$M_1=LL^T$的元素为\n",
    "$$M_1= \\left[\\begin{matrix}l_{11}&0&0 \\\\ l_{21}& l_{22}&0\\\\ l_{31}&l_{32}&l_{33} \\end{matrix}\\right]\n",
    "    \\left[\\begin{matrix}l_{11}&l_{21}&l_{31} \\\\ 0& l_{22}&l_{32}\\\\ 0&0&l_{33}\\end{matrix}\\right]$$\n",
    "$$= \\left[\\begin{matrix}l_{11}^2&l_{11}l_{21}&l_{11}l_{31} \\\\ l_{11}l_{21}& l_{21}^2+l_{22}^2&l_{21}l_{31}+l_{22}l_{32}\\\\ l_{11}l_{31}&l_{31}l_{21}+l_{32}l_{22}&l_{31}^2+l_{32}^2+l_{33}^2 \\end{matrix}\\right]$$\n"
   ]
  },
  {
   "cell_type": "markdown",
   "metadata": {},
   "source": [
    "可以以列为单位求解$L$的元素。根据之前的叙述，$L$的第一列元素可以很容易计算得到。另外，注意到$M_1$删去第一行和第一列后余下的$2 \\times 2$矩阵（记为$M_{12}$）的每一个分量的第一项为\n",
    "$$ \\left[\\begin{matrix} l_{21}^2 & l_{21}l_{31} \\\\ l_{31}l_{21} & l_{31}^2 \\end{matrix}\\right]\n",
    "=\\left[\\begin{matrix} l_{21} & l_{31} \\end{matrix}\\right] \n",
    "\\left[\\begin{matrix} l_{21}\\\\ l_{31}  \\end{matrix}\\right] $$\n",
    "因此，在计算出$L$的第一列元素后，从$M_{12}$中减去上述矩阵，得到$M_2$：\n",
    "$$M_{2}= \\left[\\begin{matrix} l_{22}^2 & l_{22}l_{32} \\\\ l_{32}l_{22} & l_{32}^2+l_{33}^2 \\end{matrix}\\right].$$\n",
    "注意到这与$M_1$的形式完全一致，可以继续计算$L$的第二列，进而求出$L$."
   ]
  },
  {
   "cell_type": "markdown",
   "metadata": {},
   "source": [
    "### 2. 前/回代法（Forward/Backward Substitution）"
   ]
  },
  {
   "cell_type": "markdown",
   "metadata": {},
   "source": [
    "对于方程组$Lx=b$和$Ux=b$（其中$L$和$U$分别是下三角矩阵和上三角矩阵），可以分别采用前代法和回代法求解。此处以下三角矩阵的前代法为例。\n",
    "\n",
    "设方程组$Lx=b$的$L$是已知的非奇异下三角阵（则其主对角线元素非零），则方程组的矩阵形式为：\n",
    "$$\\left[\\begin{matrix}l_{11} \\\\ l_{21}& l_{22}\\\\ \\vdots & \\vdots & \\ddots\\\\l_{n1}& l_{n2} & \\cdots & l_{nn}  \\end{matrix}\\right]\n",
    "\\left[\\begin{matrix}x_1 \\\\ x_2 \\\\ \\vdots\\\\ x_n  \\end{matrix}\\right]\n",
    "=\\left[\\begin{matrix}b_1 \\\\ b_2 \\\\ \\vdots\\\\ b_n  \\end{matrix}\\right].$$\n",
    "则由方程组的第一个方程可得：\n",
    "$$x_1=b_1/l_{11};$$\n",
    "进一步地，如果已求出$x_1,…,x_{i-1}$，就可以根据方程组的第$i$个方程\n",
    "$$l_{i1}x_1+l_{i2}x_2+…+l_{i,i-1}x_{i-1}+l_{ii}x_{i}=b_{i}$$\n",
    "求出\n",
    "$$x_i=(b_i-\\sum_{j=1}^{i-1} l_{ij}x_j)/l_{ii}$$\n",
    "从而可以求出方程组的解。\n",
    "求解上三角方程组的回代法的做法类似。"
   ]
  },
  {
   "cell_type": "markdown",
   "metadata": {},
   "source": [
    "## 二、实现代码"
   ]
  },
  {
   "cell_type": "markdown",
   "metadata": {},
   "source": [
    "### 1.Cholesky分解"
   ]
  },
  {
   "cell_type": "markdown",
   "metadata": {},
   "source": [
    "mchol函数能够实现对对称正定矩阵的Cholesky分解。它以一个对称正定方阵为参数，返回其Cholesky因子。"
   ]
  },
  {
   "cell_type": "code",
   "execution_count": 1,
   "metadata": {},
   "outputs": [],
   "source": [
    "mchol <- function(x)\n",
    "{\n",
    "  mn <- dim(x)\n",
    "  m <- mn[1]\n",
    "  n <- mn[2]\n",
    "    \n",
    "  #检验传入参数是否符合要求\n",
    "  if(m != n) \n",
    "  {\n",
    "    return (\"Wrong dimensions of matrix!\")\n",
    "  }\n",
    "  if(sum(t(x) != x) > 0) \n",
    "  {\n",
    "    return (\"Input matrix is not symmetrical!\")\n",
    "  }\n",
    "\n",
    "  L <- matrix(0, m, m)\n",
    "  \n",
    "  for(i in 1:m)  #以列为单位求解L\n",
    "  {\n",
    "    L[i,i] <- sqrt(x[i,i])\n",
    "    if(i < m)\n",
    "    {\n",
    "      L[(i+1):m,i] <- x[(i+1):m,i]/L[i,i]\n",
    "\n",
    "      #更新矩阵，便于下一次同样方法计算\n",
    "      TLV <- L[(i+1):m,i]\n",
    "      TLM <- matrix(TLV, m-i, m-i)\n",
    "      TLM <- sweep(TLM, 2, TLV, \"*\")\n",
    "      x[(i+1):m,(i+1):m] <- x[(i+1):m,(i+1):m] - TLM\n",
    "    }\n",
    "  }\n",
    "  L  \n",
    "}"
   ]
  },
  {
   "cell_type": "markdown",
   "metadata": {},
   "source": [
    "下面是这个函数使用的一个例子。"
   ]
  },
  {
   "cell_type": "code",
   "execution_count": 4,
   "metadata": {},
   "outputs": [
    {
     "data": {
      "text/html": [
       "<table>\n",
       "<tbody>\n",
       "\t<tr><td> 2.8650240</td><td> 0.0000000</td><td>0.0000000 </td><td>0.000000  </td></tr>\n",
       "\t<tr><td> 1.0861545</td><td> 1.7429808</td><td>0.0000000 </td><td>0.000000  </td></tr>\n",
       "\t<tr><td>-1.6827350</td><td>-0.3398935</td><td>0.3400365 </td><td>0.000000  </td></tr>\n",
       "\t<tr><td>-0.1910819</td><td> 1.0886682</td><td>1.2720375 </td><td>1.736708  </td></tr>\n",
       "</tbody>\n",
       "</table>\n"
      ],
      "text/latex": [
       "\\begin{tabular}{llll}\n",
       "\t  2.8650240 &  0.0000000 & 0.0000000  & 0.000000  \\\\\n",
       "\t  1.0861545 &  1.7429808 & 0.0000000  & 0.000000  \\\\\n",
       "\t -1.6827350 & -0.3398935 & 0.3400365  & 0.000000  \\\\\n",
       "\t -0.1910819 &  1.0886682 & 1.2720375  & 1.736708  \\\\\n",
       "\\end{tabular}\n"
      ],
      "text/markdown": [
       "\n",
       "|  2.8650240 |  0.0000000 | 0.0000000  | 0.000000   | \n",
       "|  1.0861545 |  1.7429808 | 0.0000000  | 0.000000   | \n",
       "| -1.6827350 | -0.3398935 | 0.3400365  | 0.000000   | \n",
       "| -0.1910819 |  1.0886682 | 1.2720375  | 1.736708   | \n",
       "\n",
       "\n"
      ],
      "text/plain": [
       "     [,1]       [,2]       [,3]      [,4]    \n",
       "[1,]  2.8650240  0.0000000 0.0000000 0.000000\n",
       "[2,]  1.0861545  1.7429808 0.0000000 0.000000\n",
       "[3,] -1.6827350 -0.3398935 0.3400365 0.000000\n",
       "[4,] -0.1910819  1.0886682 1.2720375 1.736708"
      ]
     },
     "metadata": {},
     "output_type": "display_data"
    }
   ],
   "source": [
    "y=matrix(rnorm(20),5)\n",
    "x=t(y)%*%y  #构造对称正定矩阵\n",
    "mchol(x)"
   ]
  },
  {
   "cell_type": "markdown",
   "metadata": {},
   "source": [
    "### 2.前/回代法求解"
   ]
  },
  {
   "cell_type": "markdown",
   "metadata": {},
   "source": [
    "#### a.前代法"
   ]
  },
  {
   "cell_type": "markdown",
   "metadata": {},
   "source": [
    "mforward()以方程组的系数矩阵（下三角矩阵）和右端常数项为参数，使用前代法求解方程组，返回方程组的解。"
   ]
  },
  {
   "cell_type": "code",
   "execution_count": 5,
   "metadata": {},
   "outputs": [],
   "source": [
    "mforwardsolve=function(L,b){\n",
    "  mn=dim(L); m=mn[1]; n=mn[2]\n",
    "  if(m!=n) return (\"Wrong dimensions of matrix L!\")\n",
    "  if(m!=length(b)) return (\"Wrong dimensions of matrix L or vector b!\") #检查输入参数是否符合要求\n",
    "  x=rep(0,m)\n",
    "  for(i in 1:m){\n",
    "    x[i]=b[i]/L[i,i]\n",
    "    if(i<m) b[(i+1):m]=b[(i+1):m]-x[i]*L[(i+1):m,i]   #更新右端项，逐步减去已求出的未知量对右端项的贡献   \n",
    "  }\n",
    "  x  \n",
    "}"
   ]
  },
  {
   "cell_type": "markdown",
   "metadata": {},
   "source": [
    "下面是使用mforward()的一个例子。"
   ]
  },
  {
   "cell_type": "code",
   "execution_count": 6,
   "metadata": {},
   "outputs": [
    {
     "data": {
      "text/html": [
       "<ol class=list-inline>\n",
       "\t<li>0.453115894792302</li>\n",
       "\t<li>1.51219810322794</li>\n",
       "\t<li>1.39386299490835</li>\n",
       "\t<li>10.467427990291</li>\n",
       "</ol>\n"
      ],
      "text/latex": [
       "\\begin{enumerate*}\n",
       "\\item 0.453115894792302\n",
       "\\item 1.51219810322794\n",
       "\\item 1.39386299490835\n",
       "\\item 10.467427990291\n",
       "\\end{enumerate*}\n"
      ],
      "text/markdown": [
       "1. 0.453115894792302\n",
       "2. 1.51219810322794\n",
       "3. 1.39386299490835\n",
       "4. 10.467427990291\n",
       "\n",
       "\n"
      ],
      "text/plain": [
       "[1]  0.4531159  1.5121981  1.3938630 10.4674280"
      ]
     },
     "metadata": {},
     "output_type": "display_data"
    },
    {
     "data": {
      "text/html": [
       "<ol class=list-inline>\n",
       "\t<li>0.453115894792302</li>\n",
       "\t<li>1.51219810322794</li>\n",
       "\t<li>1.39386299490835</li>\n",
       "\t<li>10.467427990291</li>\n",
       "</ol>\n"
      ],
      "text/latex": [
       "\\begin{enumerate*}\n",
       "\\item 0.453115894792302\n",
       "\\item 1.51219810322794\n",
       "\\item 1.39386299490835\n",
       "\\item 10.467427990291\n",
       "\\end{enumerate*}\n"
      ],
      "text/markdown": [
       "1. 0.453115894792302\n",
       "2. 1.51219810322794\n",
       "3. 1.39386299490835\n",
       "4. 10.467427990291\n",
       "\n",
       "\n"
      ],
      "text/plain": [
       "[1]  0.4531159  1.5121981  1.3938630 10.4674280"
      ]
     },
     "metadata": {},
     "output_type": "display_data"
    }
   ],
   "source": [
    "y=matrix(rnorm(20),5)\n",
    "x=t(y)%*%y\n",
    "L=mchol(x); b=1:4\n",
    "mforwardsolve(L,b)\n",
    "forwardsolve(L,b) #R语言中自带函数的求解结果"
   ]
  },
  {
   "cell_type": "markdown",
   "metadata": {},
   "source": [
    "#### b.回代法"
   ]
  },
  {
   "cell_type": "markdown",
   "metadata": {},
   "source": [
    "mbacksolve()以方程组的系数矩阵（上三角矩阵）和右端常数项为参数，使用回代法求解方程组，返回方程组的解。"
   ]
  },
  {
   "cell_type": "code",
   "execution_count": 8,
   "metadata": {},
   "outputs": [],
   "source": [
    "mbacksolve=function(L,b){\n",
    "  mn=dim(L); m=mn[1]; n=mn[2]\n",
    "  if(m!=n) return (\"Wrong dimensions of matrix L!\")\n",
    "  if(m!=length(b)) return (\"Wrong dimensions of matrix L or vector b!\") #检查输入参数是否符合要求\n",
    "  x=rep(0,m)\n",
    "  for(i in m:1){\n",
    "    x[i]=b[i]/L[i,i]\n",
    "    if(i>1) b[(i-1):1]=b[(i-1):1]-x[i]*L[(i-1):1,i]   #更新右端项   \n",
    "  }\n",
    "  x  \n",
    "}"
   ]
  },
  {
   "cell_type": "markdown",
   "metadata": {},
   "source": [
    "下面是使用mbacksolved()的一个例子"
   ]
  },
  {
   "cell_type": "code",
   "execution_count": 9,
   "metadata": {},
   "outputs": [
    {
     "data": {
      "text/html": [
       "<ol class=list-inline>\n",
       "\t<li>0.44045327184525</li>\n",
       "\t<li>1.02376528089862</li>\n",
       "\t<li>0.83258918800742</li>\n",
       "\t<li>7.89669788415001</li>\n",
       "</ol>\n"
      ],
      "text/latex": [
       "\\begin{enumerate*}\n",
       "\\item 0.44045327184525\n",
       "\\item 1.02376528089862\n",
       "\\item 0.83258918800742\n",
       "\\item 7.89669788415001\n",
       "\\end{enumerate*}\n"
      ],
      "text/markdown": [
       "1. 0.44045327184525\n",
       "2. 1.02376528089862\n",
       "3. 0.83258918800742\n",
       "4. 7.89669788415001\n",
       "\n",
       "\n"
      ],
      "text/plain": [
       "[1] 0.4404533 1.0237653 0.8325892 7.8966979"
      ]
     },
     "metadata": {},
     "output_type": "display_data"
    },
    {
     "data": {
      "text/html": [
       "<ol class=list-inline>\n",
       "\t<li>0.44045327184525</li>\n",
       "\t<li>1.02376528089862</li>\n",
       "\t<li>0.83258918800742</li>\n",
       "\t<li>7.89669788415001</li>\n",
       "</ol>\n"
      ],
      "text/latex": [
       "\\begin{enumerate*}\n",
       "\\item 0.44045327184525\n",
       "\\item 1.02376528089862\n",
       "\\item 0.83258918800742\n",
       "\\item 7.89669788415001\n",
       "\\end{enumerate*}\n"
      ],
      "text/markdown": [
       "1. 0.44045327184525\n",
       "2. 1.02376528089862\n",
       "3. 0.83258918800742\n",
       "4. 7.89669788415001\n",
       "\n",
       "\n"
      ],
      "text/plain": [
       "[1] 0.4404533 1.0237653 0.8325892 7.8966979"
      ]
     },
     "metadata": {},
     "output_type": "display_data"
    }
   ],
   "source": [
    "y=matrix(rnorm(20),5)\n",
    "x=t(y)%*%y\n",
    "L=mchol(x); b=1:4\n",
    "mforwardsolve(L,b)\n",
    "forwardsolve(L,b)  #R语言自带函数的求解结果"
   ]
  },
  {
   "cell_type": "markdown",
   "metadata": {},
   "source": [
    "注：理论部分参考：徐树方, 高立, 张平文. 数值线性代数.第2版[M]. 北京大学出版社, 2013."
   ]
  }
 ],
 "metadata": {
  "kernelspec": {
   "display_name": "R",
   "language": "R",
   "name": "ir"
  },
  "language_info": {
   "codemirror_mode": "r",
   "file_extension": ".r",
   "mimetype": "text/x-r-source",
   "name": "R",
   "pygments_lexer": "r",
   "version": "3.3.2"
  }
 },
 "nbformat": 4,
 "nbformat_minor": 2
}
